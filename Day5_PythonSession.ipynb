{
 "cells": [
  {
   "cell_type": "code",
   "execution_count": null,
   "id": "40c72f62-4cab-46af-b94a-ef42909d3f05",
   "metadata": {},
   "outputs": [],
   "source": [
    "Two approaches in organize the list data:\n",
    "1. temporary approach: \n",
    "    it is sorted method. it can be back into the original data type.\n",
    "\n",
    "2. permenant approach:\n",
    "    it is sort method. It cannot be change to the original data. once, we sort the data we cannot change it to the original format"
   ]
  },
  {
   "cell_type": "raw",
   "id": "cbc756d7-3b72-4d83-821e-306680f15094",
   "metadata": {},
   "source": []
  },
  {
   "cell_type": "code",
   "execution_count": 33,
   "id": "8f84b6ff-b49d-4e54-a951-e7e9b3e8e855",
   "metadata": {},
   "outputs": [
    {
     "name": "stdout",
     "output_type": "stream",
     "text": [
      "['bmw', 'unicorn', 'shine', 'rx', 'splendor']\n",
      "['bmw', 'rx', 'shine', 'splendor', 'unicorn']\n"
     ]
    }
   ],
   "source": [
    "bikes = ['bmw','unicorn','shine','rx','splendor']\n",
    "print(bikes)\n",
    "print(sorted(bikes))"
   ]
  },
  {
   "cell_type": "code",
   "execution_count": 13,
   "id": "12e9bb32-cb59-4ad2-b74b-9a8536aa8bba",
   "metadata": {},
   "outputs": [
    {
     "name": "stdout",
     "output_type": "stream",
     "text": [
      "['bmw', 'unicorn', 'shine', 'rx', 'splendor']\n"
     ]
    }
   ],
   "source": [
    "print(bikes) #after use sorted method i want to print original data type:"
   ]
  },
  {
   "cell_type": "code",
   "execution_count": 29,
   "id": "0cf86a2d-07f8-4100-a560-0bb15e032291",
   "metadata": {},
   "outputs": [
    {
     "name": "stdout",
     "output_type": "stream",
     "text": [
      "['bmw', 'rx', 'shine', 'splendor', 'unicorn']\n"
     ]
    }
   ],
   "source": [
    "bikes.sort()\n",
    "print(bikes)"
   ]
  },
  {
   "cell_type": "code",
   "execution_count": 27,
   "id": "1077e701-27ab-44cd-8b1f-af0d6c3f8154",
   "metadata": {},
   "outputs": [
    {
     "name": "stdout",
     "output_type": "stream",
     "text": [
      "['bmw', 'rx', 'shine', 'splendor', 'unicorn']\n"
     ]
    }
   ],
   "source": [
    "print(bikes) #after use sort method i want to print original data type: But it is shown sorted format Because, once we sort the data it cannot be change into original format"
   ]
  },
  {
   "cell_type": "code",
   "execution_count": 41,
   "id": "e4797a8d-8d63-4d43-b6f5-b90a1823ca11",
   "metadata": {},
   "outputs": [
    {
     "data": {
      "text/plain": [
       "5"
      ]
     },
     "execution_count": 41,
     "metadata": {},
     "output_type": "execute_result"
    }
   ],
   "source": [
    "#how to count of elements in list\n",
    "len(bikes)"
   ]
  },
  {
   "cell_type": "code",
   "execution_count": 43,
   "id": "46e39311-f267-4119-ade2-4c967b2cdada",
   "metadata": {},
   "outputs": [
    {
     "name": "stdout",
     "output_type": "stream",
     "text": [
      "['splendor', 'rx', 'shine', 'unicorn', 'bmw']\n"
     ]
    }
   ],
   "source": [
    "#reverse() method to show the elements in reverse \n",
    "bikes.reverse()\n",
    "print(bikes)"
   ]
  },
  {
   "cell_type": "code",
   "execution_count": 45,
   "id": "7e004863-4ee1-47ba-8f10-9be7e1761a7f",
   "metadata": {},
   "outputs": [
    {
     "name": "stdout",
     "output_type": "stream",
     "text": [
      "['splendor', 'rx', 'shine', 'unicorn', 'bmw']\n"
     ]
    }
   ],
   "source": [
    "print(bikes)"
   ]
  },
  {
   "cell_type": "code",
   "execution_count": null,
   "id": "42947283-06ea-4d11-8b3e-cdb696ac7e6d",
   "metadata": {},
   "outputs": [],
   "source": []
  },
  {
   "cell_type": "code",
   "execution_count": null,
   "id": "20c68571-fba5-49d9-98ec-539c16463016",
   "metadata": {},
   "outputs": [],
   "source": [
    "INTRODUCTION TO SLICING:"
   ]
  },
  {
   "cell_type": "code",
   "execution_count": null,
   "id": "c8975991-ea3c-4d31-979c-010c0565da47",
   "metadata": {},
   "outputs": [],
   "source": [
    "#SYNTAX:\n",
    "[start_value:stop_value:step_count]"
   ]
  },
  {
   "cell_type": "code",
   "execution_count": 51,
   "id": "3a8ed9b0-e3fc-4d03-8485-53ac7db9d9f7",
   "metadata": {},
   "outputs": [
    {
     "name": "stdout",
     "output_type": "stream",
     "text": [
      "['a']\n",
      "['a', 'b']\n"
     ]
    }
   ],
   "source": [
    "alpha = ['a','b','c','d','e','f']\n",
    "#How to print 0 th element\n",
    "print(alpha[0:1]) \n",
    "#How to print 0 th and 1st elements\n",
    "print(alpha[0:2]) "
   ]
  },
  {
   "cell_type": "code",
   "execution_count": 53,
   "id": "6c37ccd8-b750-4577-bc02-ddcb461608af",
   "metadata": {},
   "outputs": [
    {
     "name": "stdout",
     "output_type": "stream",
     "text": [
      "['a', 'b', 'c', 'd', 'e']\n"
     ]
    }
   ],
   "source": [
    "print(alpha[0:5]) "
   ]
  },
  {
   "cell_type": "code",
   "execution_count": 55,
   "id": "7510d530-724c-4c1b-8cfd-e81a3ee9d532",
   "metadata": {},
   "outputs": [
    {
     "name": "stdout",
     "output_type": "stream",
     "text": [
      "['e', 'f']\n"
     ]
    }
   ],
   "source": [
    "print(alpha[4:6])"
   ]
  },
  {
   "cell_type": "code",
   "execution_count": null,
   "id": "21ec0b9e-80c9-456a-9cc3-9d5fbae54815",
   "metadata": {},
   "outputs": [],
   "source": [
    "implementing of Step value:"
   ]
  },
  {
   "cell_type": "code",
   "execution_count": 63,
   "id": "de371c33-c453-46c1-86e2-0efab3d0b2fc",
   "metadata": {},
   "outputs": [
    {
     "name": "stdout",
     "output_type": "stream",
     "text": [
      "['a', 'd']\n"
     ]
    }
   ],
   "source": [
    "print(alpha[0:5:2])  # 0 = start value, 5 = total index count, 2 = where we want to break"
   ]
  },
  {
   "cell_type": "code",
   "execution_count": null,
   "id": "e2775395-f5de-4903-b343-9d37487d7bfd",
   "metadata": {},
   "outputs": [],
   "source": []
  },
  {
   "cell_type": "code",
   "execution_count": null,
   "id": "ae7d8fe4-9112-4046-9337-04e8978dd866",
   "metadata": {},
   "outputs": [],
   "source": []
  }
 ],
 "metadata": {
  "kernelspec": {
   "display_name": "Python 3 (ipykernel)",
   "language": "python",
   "name": "python3"
  },
  "language_info": {
   "codemirror_mode": {
    "name": "ipython",
    "version": 3
   },
   "file_extension": ".py",
   "mimetype": "text/x-python",
   "name": "python",
   "nbconvert_exporter": "python",
   "pygments_lexer": "ipython3",
   "version": "3.12.4"
  }
 },
 "nbformat": 4,
 "nbformat_minor": 5
}
